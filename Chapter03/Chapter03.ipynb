{
 "cells": [
  {
   "cell_type": "markdown",
   "metadata": {},
   "source": [
    "# Indentation"
   ]
  },
  {
   "cell_type": "code",
   "execution_count": 1,
   "metadata": {},
   "outputs": [
    {
     "name": "stdout",
     "output_type": "stream",
     "text": [
      "It's a hot day!\n"
     ]
    }
   ],
   "source": [
    "temperature = 29\n",
    "if temperature > 28:\n",
    "    print(\"It's a hot day!\")\n",
    "else:\n",
    "    print(\"The weather is pleasant.\")\n"
   ]
  },
  {
   "cell_type": "markdown",
   "metadata": {},
   "source": [
    "# Variables"
   ]
  },
  {
   "cell_type": "code",
   "execution_count": 2,
   "metadata": {},
   "outputs": [],
   "source": [
    "age = 40\n",
    "name = \"Luis\"\n",
    "pi = 3.14159\n"
   ]
  },
  {
   "cell_type": "markdown",
   "metadata": {},
   "source": [
    "# Operators"
   ]
  },
  {
   "cell_type": "code",
   "execution_count": 3,
   "metadata": {},
   "outputs": [],
   "source": [
    "result = 10 + 5 * 2  # Arithmetic calculation\n",
    "is_equal = age == 30 # Comparison\n",
    "is_valid = age > 18 and age < 65 # Logical operation\n"
   ]
  },
  {
   "cell_type": "markdown",
   "metadata": {},
   "source": [
    "## Data types\n",
    "\n",
    "# Int"
   ]
  },
  {
   "cell_type": "code",
   "execution_count": 4,
   "metadata": {},
   "outputs": [],
   "source": [
    "page = 30        # Integer\n",
    "price = 29.99    # Float\n"
   ]
  },
  {
   "cell_type": "markdown",
   "metadata": {},
   "source": [
    "## Strings"
   ]
  },
  {
   "cell_type": "code",
   "execution_count": 5,
   "metadata": {},
   "outputs": [],
   "source": [
    "name = \"Luis\"  \n",
    "message = 'Hello Luis'\n"
   ]
  },
  {
   "cell_type": "markdown",
   "metadata": {},
   "source": [
    "## Booelans"
   ]
  },
  {
   "cell_type": "code",
   "execution_count": 6,
   "metadata": {},
   "outputs": [],
   "source": [
    "is_student = True\n",
    "is_raining = False\n"
   ]
  },
  {
   "cell_type": "markdown",
   "metadata": {},
   "source": [
    "## Lists"
   ]
  },
  {
   "cell_type": "code",
   "execution_count": 7,
   "metadata": {},
   "outputs": [],
   "source": [
    "numbers = [1, 2, 3, 4]\n",
    "fruits = [\"apple\", \"banana\", \"orange\"]\n"
   ]
  },
  {
   "cell_type": "markdown",
   "metadata": {},
   "source": [
    "## Dictionaries"
   ]
  },
  {
   "cell_type": "code",
   "execution_count": 8,
   "metadata": {},
   "outputs": [],
   "source": [
    "person = {\"name\": \"Luis\", \"age\": 45, \"city\": \"Brussels\"}"
   ]
  },
  {
   "cell_type": "markdown",
   "metadata": {},
   "source": [
    "## Sets"
   ]
  },
  {
   "cell_type": "code",
   "execution_count": 9,
   "metadata": {},
   "outputs": [],
   "source": [
    "unique_numbers = {5, 1, 3, 1, 7}  "
   ]
  },
  {
   "cell_type": "markdown",
   "metadata": {},
   "source": [
    "## Tuples"
   ]
  },
  {
   "cell_type": "code",
   "execution_count": 10,
   "metadata": {},
   "outputs": [],
   "source": [
    "coordinates = (10, 20)"
   ]
  },
  {
   "cell_type": "markdown",
   "metadata": {},
   "source": [
    "## Conditional Statements"
   ]
  },
  {
   "cell_type": "code",
   "execution_count": 11,
   "metadata": {},
   "outputs": [
    {
     "name": "stdout",
     "output_type": "stream",
     "text": [
      "Model is performing well\n"
     ]
    }
   ],
   "source": [
    "accuracy = 0.91\n",
    "if accuracy > 0.9:\n",
    "    print(\"Model is performing well\")\n",
    "elif accuracy > 0.8:\n",
    "    print(\"Model needs improvement\")\n",
    "else:\n",
    "    print(\"Model is underperforming\")\n"
   ]
  },
  {
   "cell_type": "markdown",
   "metadata": {},
   "source": [
    "## For loops"
   ]
  },
  {
   "cell_type": "code",
   "execution_count": 12,
   "metadata": {},
   "outputs": [
    {
     "name": "stdout",
     "output_type": "stream",
     "text": [
      "Training\n",
      "Training\n",
      "Training\n",
      "Training\n",
      "Training\n",
      "Training\n",
      "Training\n",
      "Training\n",
      "Training\n",
      "Training\n"
     ]
    }
   ],
   "source": [
    "for epoch in range(10):  # Train for 10 epochs\n",
    "    print(\"Training\")\n",
    "    #train_model(data)\n"
   ]
  },
  {
   "cell_type": "markdown",
   "metadata": {},
   "source": [
    "## While loops"
   ]
  },
  {
   "cell_type": "code",
   "execution_count": 13,
   "metadata": {},
   "outputs": [],
   "source": [
    "loss = 0.01\n",
    "while loss > 0.1:  # Train until the loss is below 0.1\n",
    "\tprint(\"Training\")\n",
    "    #train_model(data)\n"
   ]
  },
  {
   "cell_type": "markdown",
   "metadata": {},
   "source": [
    "## Functions"
   ]
  },
  {
   "cell_type": "code",
   "execution_count": 14,
   "metadata": {},
   "outputs": [],
   "source": [
    "def preprocess_data(data):\n",
    "    # Data cleaning and transformation steps\n",
    "    processed_data = 'processed_data'\n",
    "    \n",
    "    return processed_data\n",
    "\t\n",
    "def calculate_accuracy(y_true, y_pred):\n",
    "    # Accuracy calculation logic\n",
    "    accuracy=0.99\n",
    "    return accuracy\n"
   ]
  },
  {
   "cell_type": "markdown",
   "metadata": {},
   "source": [
    "## Lambda functions"
   ]
  },
  {
   "cell_type": "code",
   "execution_count": 15,
   "metadata": {},
   "outputs": [],
   "source": [
    "# Regular function\n",
    "def double(x):\n",
    "    return x * 2\n"
   ]
  },
  {
   "cell_type": "code",
   "execution_count": 16,
   "metadata": {},
   "outputs": [
    {
     "name": "stdout",
     "output_type": "stream",
     "text": [
      "8\n"
     ]
    }
   ],
   "source": [
    "x= 4\n",
    "# Lambda function\n",
    "y = lambda x: x * 2\n",
    "print(y(x))"
   ]
  },
  {
   "cell_type": "markdown",
   "metadata": {},
   "source": [
    "## Sorting"
   ]
  },
  {
   "cell_type": "code",
   "execution_count": 17,
   "metadata": {},
   "outputs": [],
   "source": [
    "points = [(1, 2), (3, 4), (-1, -1)]\n",
    "sorted_points = sorted(points, key=lambda x: x[0]**2 + x[1]**2)  \n"
   ]
  },
  {
   "cell_type": "markdown",
   "metadata": {},
   "source": [
    "## Lists"
   ]
  },
  {
   "cell_type": "code",
   "execution_count": 18,
   "metadata": {},
   "outputs": [],
   "source": [
    "# Example: Storing training data\n",
    "data = [\n",
    "    [0.2, 0.5, 0.8, 1],  # Features, Label \n",
    "    [0.1, 0.3, 0.6, 0],\n",
    "    [0.3, 0.7, 0.9, 1]\n",
    "]\n"
   ]
  },
  {
   "cell_type": "markdown",
   "metadata": {},
   "source": [
    "## Indexing and slicing"
   ]
  },
  {
   "cell_type": "code",
   "execution_count": 19,
   "metadata": {},
   "outputs": [],
   "source": [
    "first_data_point = data[0]         # Access the first data point\n",
    "features = first_data_point[:-1]   # Slice to get features \n",
    "label = first_data_point[-1]       # Get the last element (label)\n"
   ]
  },
  {
   "cell_type": "markdown",
   "metadata": {},
   "source": [
    "## List methods"
   ]
  },
  {
   "cell_type": "code",
   "execution_count": 20,
   "metadata": {},
   "outputs": [],
   "source": [
    "# Example: Modifying a list of labels\n",
    "labels = [1, 0, 1]\n",
    "labels.append(2)         # Add a new label\n",
    "labels.insert(1, 3)       # Insert a label at index 1\n",
    "labels.remove(1)         # Remove the first occurrence of 1\n",
    "removed_label = labels.pop()  # Remove the last label (2) and store it\n"
   ]
  },
  {
   "cell_type": "markdown",
   "metadata": {},
   "source": [
    "## List comprehensions"
   ]
  },
  {
   "cell_type": "code",
   "execution_count": 21,
   "metadata": {},
   "outputs": [],
   "source": [
    "# Example: Squaring each element in a list\n",
    "numbers = [1, 2, 3, 4]\n",
    "squared_numbers = [x**2 for x in numbers]  # [1, 4, 9, 16]\n"
   ]
  },
  {
   "cell_type": "markdown",
   "metadata": {},
   "source": [
    "## Dictionaries"
   ]
  },
  {
   "cell_type": "code",
   "execution_count": 22,
   "metadata": {},
   "outputs": [],
   "source": [
    "# Example: Storing model hyperparameters\n",
    "model_params = {\"learning_rate\": 0.01, \"batch_size\": 32, \"epochs\": 10}\n"
   ]
  },
  {
   "cell_type": "code",
   "execution_count": 23,
   "metadata": {},
   "outputs": [],
   "source": [
    "learning_rate = model_params[\"learning_rate\"]  # Access learning rate"
   ]
  },
  {
   "cell_type": "code",
   "execution_count": 24,
   "metadata": {},
   "outputs": [],
   "source": [
    "model_params[\"optimizer\"] = \"adam\"  # Add a new hyperparameter\n",
    "model_params[\"epochs\"] = 15        # Modify the number of epochs\n"
   ]
  },
  {
   "cell_type": "code",
   "execution_count": 25,
   "metadata": {},
   "outputs": [
    {
     "name": "stdout",
     "output_type": "stream",
     "text": [
      "learning_rate: 0.01\n",
      "batch_size: 32\n",
      "epochs: 15\n",
      "optimizer: adam\n"
     ]
    }
   ],
   "source": [
    "all_keys = model_params.keys()     # Get all keys\n",
    "all_values = model_params.values() # Get all values\n",
    "for key, value in model_params.items():  # Iterate over key-value pairs\n",
    "    print(f\"{key}: {value}\")\n"
   ]
  },
  {
   "cell_type": "markdown",
   "metadata": {},
   "source": [
    "## Sets"
   ]
  },
  {
   "cell_type": "code",
   "execution_count": 26,
   "metadata": {},
   "outputs": [],
   "source": [
    "# Example: Creating sets of features\n",
    "features_set1 = {1, 2, 3}\n",
    "features_set2 = set([2, 3, 4])\n"
   ]
  },
  {
   "cell_type": "code",
   "execution_count": 27,
   "metadata": {},
   "outputs": [],
   "source": [
    "all_features = features_set1 | features_set2  #Union: {1, 2, 3, 4}\n",
    "common_features = features_set1 & features_set2 #Intersection: {2, 3}\n",
    "unique_to_set1 = features_set1 - features_set2  # Difference: {1}\n"
   ]
  },
  {
   "cell_type": "markdown",
   "metadata": {},
   "source": [
    "##  Tuples"
   ]
  },
  {
   "cell_type": "code",
   "execution_count": 28,
   "metadata": {},
   "outputs": [],
   "source": [
    "# Example: Representing a data point with features and a label\n",
    "data_point = ([0.2, 0.5, 0.8], 1)  # Features: [0.2, 0.5, 0.8], Label: 1\n"
   ]
  },
  {
   "cell_type": "code",
   "execution_count": 29,
   "metadata": {},
   "outputs": [],
   "source": [
    "# Tuple packing\n",
    "point = (10, 20)  # Packing two values into a tuple\n",
    "\t\n",
    "# Tuple unpacking\n",
    "x, y = point      # Unpacking the values into x and y\n"
   ]
  },
  {
   "cell_type": "code",
   "execution_count": 30,
   "metadata": {},
   "outputs": [],
   "source": [
    "# Example: Using a tuple as a dictionary key\n",
    "image_data = {\n",
    "    (1280, 720): \"HD image\",\n",
    "    (1920, 1080): \"Full HD image\"\n",
    "}\n"
   ]
  },
  {
   "cell_type": "markdown",
   "metadata": {},
   "source": [
    "## Handling errors and exceptions"
   ]
  },
  {
   "cell_type": "code",
   "execution_count": 31,
   "metadata": {},
   "outputs": [
    {
     "name": "stdout",
     "output_type": "stream",
     "text": [
      "Error: Division by zero\n"
     ]
    }
   ],
   "source": [
    "try:\n",
    "    result = 10 / 0  # This will raise a ZeroDivisionError\n",
    "except ZeroDivisionError:\n",
    "    print(\"Error: Division by zero\")\n",
    "    result = float('inf')  # Handle the error by setting result to infinity\n"
   ]
  },
  {
   "cell_type": "code",
   "execution_count": 32,
   "metadata": {},
   "outputs": [],
   "source": [
    "def validate_input(x):\n",
    "    if x < 0:\n",
    "        raise ValueError(\"Input must be a non-negative number\")\n",
    "\n",
    "    try:\n",
    "       validate_input(-5)\n",
    "    except ValueError as e:\n",
    "       print(e)  # Print the error message\n"
   ]
  },
  {
   "cell_type": "markdown",
   "metadata": {},
   "source": [
    "## Code organization"
   ]
  },
  {
   "cell_type": "markdown",
   "metadata": {},
   "source": [
    "Open data_preprocessing.py"
   ]
  },
  {
   "cell_type": "code",
   "execution_count": 33,
   "metadata": {},
   "outputs": [],
   "source": [
    "# main.py or just any jupyter notebook\n",
    "\n",
    "import data_preprocessing\n",
    "\t\n",
    "data = 1  # Your raw data\n",
    "normalized_data = data_preprocessing.normalize_data(data)\n"
   ]
  },
  {
   "cell_type": "code",
   "execution_count": 34,
   "metadata": {},
   "outputs": [],
   "source": [
    "# main.py or just any jupyter notebook\n",
    "\n",
    "from my_ml_tools import data_preprocessing \n",
    "\n",
    "data =2 \n",
    "normalized_data = data_preprocessing.normalize_data(data)\n"
   ]
  },
  {
   "cell_type": "markdown",
   "metadata": {},
   "source": [
    "## Importing libraries"
   ]
  },
  {
   "cell_type": "code",
   "execution_count": 35,
   "metadata": {},
   "outputs": [],
   "source": [
    "import math\n",
    "import random\n",
    "import os\n"
   ]
  },
  {
   "cell_type": "code",
   "execution_count": 36,
   "metadata": {},
   "outputs": [
    {
     "name": "stdout",
     "output_type": "stream",
     "text": [
      "Requirement already satisfied: pandas in /Users/luisvalencia/Documents/PythonPersonalProjects/Mastering-Machine-Learning-A-practical-guide-to-PyTorch-and-Scikit-Learn/.venv/lib/python3.13/site-packages (2.3.1)\n",
      "Requirement already satisfied: matplotlib in /Users/luisvalencia/Documents/PythonPersonalProjects/Mastering-Machine-Learning-A-practical-guide-to-PyTorch-and-Scikit-Learn/.venv/lib/python3.13/site-packages (3.10.3)\n",
      "Requirement already satisfied: scikit-learn in /Users/luisvalencia/Documents/PythonPersonalProjects/Mastering-Machine-Learning-A-practical-guide-to-PyTorch-and-Scikit-Learn/.venv/lib/python3.13/site-packages (1.7.0)\n",
      "Requirement already satisfied: torch in /Users/luisvalencia/Documents/PythonPersonalProjects/Mastering-Machine-Learning-A-practical-guide-to-PyTorch-and-Scikit-Learn/.venv/lib/python3.13/site-packages (2.7.1)\n",
      "Requirement already satisfied: numpy>=1.26.0 in /Users/luisvalencia/Documents/PythonPersonalProjects/Mastering-Machine-Learning-A-practical-guide-to-PyTorch-and-Scikit-Learn/.venv/lib/python3.13/site-packages (from pandas) (2.3.1)\n",
      "Requirement already satisfied: python-dateutil>=2.8.2 in /Users/luisvalencia/Documents/PythonPersonalProjects/Mastering-Machine-Learning-A-practical-guide-to-PyTorch-and-Scikit-Learn/.venv/lib/python3.13/site-packages (from pandas) (2.9.0.post0)\n",
      "Requirement already satisfied: pytz>=2020.1 in /Users/luisvalencia/Documents/PythonPersonalProjects/Mastering-Machine-Learning-A-practical-guide-to-PyTorch-and-Scikit-Learn/.venv/lib/python3.13/site-packages (from pandas) (2025.2)\n",
      "Requirement already satisfied: tzdata>=2022.7 in /Users/luisvalencia/Documents/PythonPersonalProjects/Mastering-Machine-Learning-A-practical-guide-to-PyTorch-and-Scikit-Learn/.venv/lib/python3.13/site-packages (from pandas) (2025.2)\n",
      "Requirement already satisfied: contourpy>=1.0.1 in /Users/luisvalencia/Documents/PythonPersonalProjects/Mastering-Machine-Learning-A-practical-guide-to-PyTorch-and-Scikit-Learn/.venv/lib/python3.13/site-packages (from matplotlib) (1.3.2)\n",
      "Requirement already satisfied: cycler>=0.10 in /Users/luisvalencia/Documents/PythonPersonalProjects/Mastering-Machine-Learning-A-practical-guide-to-PyTorch-and-Scikit-Learn/.venv/lib/python3.13/site-packages (from matplotlib) (0.12.1)\n",
      "Requirement already satisfied: fonttools>=4.22.0 in /Users/luisvalencia/Documents/PythonPersonalProjects/Mastering-Machine-Learning-A-practical-guide-to-PyTorch-and-Scikit-Learn/.venv/lib/python3.13/site-packages (from matplotlib) (4.58.5)\n",
      "Requirement already satisfied: kiwisolver>=1.3.1 in /Users/luisvalencia/Documents/PythonPersonalProjects/Mastering-Machine-Learning-A-practical-guide-to-PyTorch-and-Scikit-Learn/.venv/lib/python3.13/site-packages (from matplotlib) (1.4.8)\n",
      "Requirement already satisfied: packaging>=20.0 in /Users/luisvalencia/Documents/PythonPersonalProjects/Mastering-Machine-Learning-A-practical-guide-to-PyTorch-and-Scikit-Learn/.venv/lib/python3.13/site-packages (from matplotlib) (25.0)\n",
      "Requirement already satisfied: pillow>=8 in /Users/luisvalencia/Documents/PythonPersonalProjects/Mastering-Machine-Learning-A-practical-guide-to-PyTorch-and-Scikit-Learn/.venv/lib/python3.13/site-packages (from matplotlib) (11.3.0)\n",
      "Requirement already satisfied: pyparsing>=2.3.1 in /Users/luisvalencia/Documents/PythonPersonalProjects/Mastering-Machine-Learning-A-practical-guide-to-PyTorch-and-Scikit-Learn/.venv/lib/python3.13/site-packages (from matplotlib) (3.2.3)\n",
      "Requirement already satisfied: scipy>=1.8.0 in /Users/luisvalencia/Documents/PythonPersonalProjects/Mastering-Machine-Learning-A-practical-guide-to-PyTorch-and-Scikit-Learn/.venv/lib/python3.13/site-packages (from scikit-learn) (1.16.0)\n",
      "Requirement already satisfied: joblib>=1.2.0 in /Users/luisvalencia/Documents/PythonPersonalProjects/Mastering-Machine-Learning-A-practical-guide-to-PyTorch-and-Scikit-Learn/.venv/lib/python3.13/site-packages (from scikit-learn) (1.5.1)\n",
      "Requirement already satisfied: threadpoolctl>=3.1.0 in /Users/luisvalencia/Documents/PythonPersonalProjects/Mastering-Machine-Learning-A-practical-guide-to-PyTorch-and-Scikit-Learn/.venv/lib/python3.13/site-packages (from scikit-learn) (3.6.0)\n",
      "Requirement already satisfied: filelock in /Users/luisvalencia/Documents/PythonPersonalProjects/Mastering-Machine-Learning-A-practical-guide-to-PyTorch-and-Scikit-Learn/.venv/lib/python3.13/site-packages (from torch) (3.18.0)\n",
      "Requirement already satisfied: typing-extensions>=4.10.0 in /Users/luisvalencia/Documents/PythonPersonalProjects/Mastering-Machine-Learning-A-practical-guide-to-PyTorch-and-Scikit-Learn/.venv/lib/python3.13/site-packages (from torch) (4.14.1)\n",
      "Requirement already satisfied: setuptools in /Users/luisvalencia/Documents/PythonPersonalProjects/Mastering-Machine-Learning-A-practical-guide-to-PyTorch-and-Scikit-Learn/.venv/lib/python3.13/site-packages (from torch) (80.9.0)\n",
      "Requirement already satisfied: sympy>=1.13.3 in /Users/luisvalencia/Documents/PythonPersonalProjects/Mastering-Machine-Learning-A-practical-guide-to-PyTorch-and-Scikit-Learn/.venv/lib/python3.13/site-packages (from torch) (1.14.0)\n",
      "Requirement already satisfied: networkx in /Users/luisvalencia/Documents/PythonPersonalProjects/Mastering-Machine-Learning-A-practical-guide-to-PyTorch-and-Scikit-Learn/.venv/lib/python3.13/site-packages (from torch) (3.5)\n",
      "Requirement already satisfied: jinja2 in /Users/luisvalencia/Documents/PythonPersonalProjects/Mastering-Machine-Learning-A-practical-guide-to-PyTorch-and-Scikit-Learn/.venv/lib/python3.13/site-packages (from torch) (3.1.6)\n",
      "Requirement already satisfied: fsspec in /Users/luisvalencia/Documents/PythonPersonalProjects/Mastering-Machine-Learning-A-practical-guide-to-PyTorch-and-Scikit-Learn/.venv/lib/python3.13/site-packages (from torch) (2025.5.1)\n",
      "Requirement already satisfied: six>=1.5 in /Users/luisvalencia/Documents/PythonPersonalProjects/Mastering-Machine-Learning-A-practical-guide-to-PyTorch-and-Scikit-Learn/.venv/lib/python3.13/site-packages (from python-dateutil>=2.8.2->pandas) (1.17.0)\n",
      "Requirement already satisfied: mpmath<1.4,>=1.1.0 in /Users/luisvalencia/Documents/PythonPersonalProjects/Mastering-Machine-Learning-A-practical-guide-to-PyTorch-and-Scikit-Learn/.venv/lib/python3.13/site-packages (from sympy>=1.13.3->torch) (1.3.0)\n",
      "Requirement already satisfied: MarkupSafe>=2.0 in /Users/luisvalencia/Documents/PythonPersonalProjects/Mastering-Machine-Learning-A-practical-guide-to-PyTorch-and-Scikit-Learn/.venv/lib/python3.13/site-packages (from jinja2->torch) (3.0.2)\n",
      "Note: you may need to restart the kernel to use updated packages.\n"
     ]
    }
   ],
   "source": [
    "%pip install pandas matplotlib scikit-learn torch"
   ]
  },
  {
   "cell_type": "code",
   "execution_count": 37,
   "metadata": {},
   "outputs": [],
   "source": [
    "import numpy as np\n",
    "import pandas as pd\n",
    "import matplotlib.pyplot as plt\n",
    "from sklearn.model_selection import train_test_split\n",
    "import torch\n"
   ]
  },
  {
   "cell_type": "markdown",
   "metadata": {},
   "source": [
    "## Code formatting"
   ]
  },
  {
   "cell_type": "code",
   "execution_count": 38,
   "metadata": {},
   "outputs": [
    {
     "name": "stdout",
     "output_type": "stream",
     "text": [
      "0\n",
      "2\n",
      "4\n",
      "6\n",
      "8\n"
     ]
    }
   ],
   "source": [
    "# Good\n",
    "for i in range(10):\n",
    "    if i % 2 == 0:\n",
    "        print(i)\n"
   ]
  },
  {
   "cell_type": "code",
   "execution_count": 39,
   "metadata": {},
   "outputs": [],
   "source": [
    "# Good -  Limit lines to a maximum of 79 characters\n",
    "#result = some_function(argument1, argument2, argument3)"
   ]
  },
  {
   "cell_type": "code",
   "execution_count": 40,
   "metadata": {},
   "outputs": [],
   "source": [
    "#\tBlank Lines: Use blank lines to separate functions and classes and to group related code within functions\n",
    "def preprocess_data(data):\n",
    "    # ... (Code for preprocessing)\n",
    "    return data\n",
    "\n",
    "def train_model(data):\n",
    "\t# ... (Code for training)\n",
    "    return data "
   ]
  },
  {
   "cell_type": "code",
   "execution_count": 41,
   "metadata": {},
   "outputs": [],
   "source": [
    "# Example of a docstring for a function\n",
    "def calculate_accuracy(y_true, y_pred):\n",
    "    \"\"\"\n",
    "    Calculates the accuracy of a model's predictions.\n",
    "\n",
    "    Args:\n",
    "        y_true: True target values.\n",
    "        y_pred: Predicted values.\n",
    "\n",
    "\t    Returns:\n",
    "\t        The accuracy score.\n",
    "\t    \"\"\"\n",
    "\t    # ... (Code for calculating accuracy)\n",
    "    return 0.9\n"
   ]
  },
  {
   "cell_type": "code",
   "execution_count": 42,
   "metadata": {},
   "outputs": [],
   "source": [
    "import numpy as np\n",
    "\n",
    "def calculate_loss(y_true, y_pred):\n",
    "    \"\"\"\n",
    "    Calculates the mean squared error loss between true - predicted values.\n",
    "\n",
    "    Args:\n",
    "        y_true: True target values.\n",
    "        y_pred: Predicted values.\n",
    "\n",
    "    Returns:\n",
    "\t        The mean squared error loss.\n",
    "    \"\"\"\n",
    "    return np.mean((y_true - y_pred) ** 2)"
   ]
  },
  {
   "cell_type": "markdown",
   "metadata": {},
   "source": [
    "## Object Oriented Programming"
   ]
  },
  {
   "cell_type": "code",
   "execution_count": 43,
   "metadata": {},
   "outputs": [],
   "source": [
    "class NeuralNetwork:\n",
    "    def __init__(self, num_layers, num_neurons):\n",
    "        self.num_layers = num_layers\n",
    "        self.num_neurons = num_neurons\n",
    "        # ... (Initialize weights and biases)\n",
    "\n",
    "    def forward(self, inputs):\n",
    "        # ... (Forward pass logic)\n",
    "        return 1\n",
    "\n",
    "    def backward(self, loss):\n",
    "\t    # ... (Backpropagation logic)\n",
    "        return 0\n"
   ]
  },
  {
   "cell_type": "code",
   "execution_count": 44,
   "metadata": {},
   "outputs": [],
   "source": [
    "class Model:\n",
    "    def __init__(self):\n",
    "        # ... (Initialize common model attributes)\n",
    "        super().__init__()\n",
    "\n",
    "    def fit(self, X, y):\n",
    "        # ... (Generic training logic)\n",
    "        print(\"Data is fit original implementation\")\n",
    "\n",
    "    def predict(self, X):\n",
    "        # ... (Generic prediction logic)\n",
    "        print(\"Data predicted\")\n",
    "\t\n",
    "class LinearRegression(Model):\n",
    "    def __init__(self):\n",
    "        # ... (Initialize specific linear regression attributes)\n",
    "        super().__init__()\n",
    "\t\n",
    "    def fit(self, X, y):\n",
    "        # ... (Specific linear regression training logic)\n",
    "        print(\"Data is fit, implementation from Linear Regression\")\n"
   ]
  },
  {
   "cell_type": "code",
   "execution_count": 45,
   "metadata": {},
   "outputs": [],
   "source": [
    "class DataPreprocessor:\n",
    "    def __init__(self, data):\n",
    "        self._data = data  # Protected attribute\n",
    "\n",
    "    def normalize(self):\n",
    "        # ... (Normalization logic)\n",
    "        print(\"Data is normalized\")\n",
    "\n",
    "    def clean(self):\n",
    "        # ... (Cleaning logic)\n",
    "        print(\"Data is cleaned\")\n",
    "        "
   ]
  },
  {
   "cell_type": "code",
   "execution_count": 46,
   "metadata": {},
   "outputs": [],
   "source": [
    "def train_model(model, optimizer, data):\n",
    "    # ...\n",
    "    optimizer.step()  # Works with any optimizer that has a step() method\n",
    "    # ...\n"
   ]
  }
 ],
 "metadata": {
  "kernelspec": {
   "display_name": ".venv",
   "language": "python",
   "name": "python3"
  },
  "language_info": {
   "codemirror_mode": {
    "name": "ipython",
    "version": 3
   },
   "file_extension": ".py",
   "mimetype": "text/x-python",
   "name": "python",
   "nbconvert_exporter": "python",
   "pygments_lexer": "ipython3",
   "version": "3.13.1"
  }
 },
 "nbformat": 4,
 "nbformat_minor": 2
}
