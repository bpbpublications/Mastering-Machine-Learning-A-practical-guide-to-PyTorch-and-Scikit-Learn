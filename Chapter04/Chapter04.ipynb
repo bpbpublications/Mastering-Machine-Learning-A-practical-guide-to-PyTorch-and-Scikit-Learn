{
 "cells": [
  {
   "cell_type": "markdown",
   "metadata": {},
   "source": [
    "# Essential Machine Learning Libraries in Python "
   ]
  },
  {
   "cell_type": "code",
   "execution_count": 2,
   "metadata": {},
   "outputs": [
    {
     "name": "stdout",
     "output_type": "stream",
     "text": [
      "Requirement already satisfied: numpy in /Users/luisvalencia/Documents/PythonPersonalProjects/mmlbook/.venv/lib/python3.13/site-packages (2.3.0)\n",
      "Requirement already satisfied: pandas in /Users/luisvalencia/Documents/PythonPersonalProjects/mmlbook/.venv/lib/python3.13/site-packages (2.3.0)\n",
      "Requirement already satisfied: matplotlib in /Users/luisvalencia/Documents/PythonPersonalProjects/mmlbook/.venv/lib/python3.13/site-packages (3.10.3)\n",
      "Requirement already satisfied: scikit-learn in /Users/luisvalencia/Documents/PythonPersonalProjects/mmlbook/.venv/lib/python3.13/site-packages (1.7.0)\n",
      "Requirement already satisfied: python-dateutil>=2.8.2 in /Users/luisvalencia/Documents/PythonPersonalProjects/mmlbook/.venv/lib/python3.13/site-packages (from pandas) (2.9.0.post0)\n",
      "Requirement already satisfied: pytz>=2020.1 in /Users/luisvalencia/Documents/PythonPersonalProjects/mmlbook/.venv/lib/python3.13/site-packages (from pandas) (2025.2)\n",
      "Requirement already satisfied: tzdata>=2022.7 in /Users/luisvalencia/Documents/PythonPersonalProjects/mmlbook/.venv/lib/python3.13/site-packages (from pandas) (2025.2)\n",
      "Requirement already satisfied: contourpy>=1.0.1 in /Users/luisvalencia/Documents/PythonPersonalProjects/mmlbook/.venv/lib/python3.13/site-packages (from matplotlib) (1.3.2)\n",
      "Requirement already satisfied: cycler>=0.10 in /Users/luisvalencia/Documents/PythonPersonalProjects/mmlbook/.venv/lib/python3.13/site-packages (from matplotlib) (0.12.1)\n",
      "Requirement already satisfied: fonttools>=4.22.0 in /Users/luisvalencia/Documents/PythonPersonalProjects/mmlbook/.venv/lib/python3.13/site-packages (from matplotlib) (4.58.2)\n",
      "Requirement already satisfied: kiwisolver>=1.3.1 in /Users/luisvalencia/Documents/PythonPersonalProjects/mmlbook/.venv/lib/python3.13/site-packages (from matplotlib) (1.4.8)\n",
      "Requirement already satisfied: packaging>=20.0 in /Users/luisvalencia/Documents/PythonPersonalProjects/mmlbook/.venv/lib/python3.13/site-packages (from matplotlib) (24.2)\n",
      "Requirement already satisfied: pillow>=8 in /Users/luisvalencia/Documents/PythonPersonalProjects/mmlbook/.venv/lib/python3.13/site-packages (from matplotlib) (11.2.1)\n",
      "Requirement already satisfied: pyparsing>=2.3.1 in /Users/luisvalencia/Documents/PythonPersonalProjects/mmlbook/.venv/lib/python3.13/site-packages (from matplotlib) (3.2.3)\n",
      "Requirement already satisfied: scipy>=1.8.0 in /Users/luisvalencia/Documents/PythonPersonalProjects/mmlbook/.venv/lib/python3.13/site-packages (from scikit-learn) (1.15.3)\n",
      "Requirement already satisfied: joblib>=1.2.0 in /Users/luisvalencia/Documents/PythonPersonalProjects/mmlbook/.venv/lib/python3.13/site-packages (from scikit-learn) (1.5.1)\n",
      "Requirement already satisfied: threadpoolctl>=3.1.0 in /Users/luisvalencia/Documents/PythonPersonalProjects/mmlbook/.venv/lib/python3.13/site-packages (from scikit-learn) (3.6.0)\n",
      "Requirement already satisfied: six>=1.5 in /Users/luisvalencia/Documents/PythonPersonalProjects/mmlbook/.venv/lib/python3.13/site-packages (from python-dateutil>=2.8.2->pandas) (1.17.0)\n",
      "Note: you may need to restart the kernel to use updated packages.\n"
     ]
    }
   ],
   "source": [
    "%pip install numpy pandas matplotlib scikit-learn"
   ]
  },
  {
   "cell_type": "markdown",
   "metadata": {},
   "source": [
    "## NUMPY"
   ]
  },
  {
   "cell_type": "markdown",
   "metadata": {},
   "source": [
    "### ndarray (N-dimensional array)"
   ]
  },
  {
   "cell_type": "code",
   "execution_count": 3,
   "metadata": {},
   "outputs": [],
   "source": [
    "import numpy as np\n",
    "\n",
    "# 1D array from a list\n",
    "arr1 = np.array([1, 2, 3])\n",
    "\n",
    "# 2D array from a list of lists\n",
    "arr2 = np.array([[1, 2], [3, 4]])\n",
    "\n",
    "# 1D array from a tuple\n",
    "arr3 = np.array((5, 6, 7))\n"
   ]
  },
  {
   "cell_type": "markdown",
   "metadata": {},
   "source": [
    "### Array Creation, Indexing, and Slicing"
   ]
  },
  {
   "cell_type": "code",
   "execution_count": 4,
   "metadata": {},
   "outputs": [
    {
     "name": "stdout",
     "output_type": "stream",
     "text": [
      "[[0. 0. 0.]\n",
      " [0. 0. 0.]]\n",
      "[[1. 1.]\n",
      " [1. 1.]\n",
      " [1. 1.]]\n",
      "[[9 9]\n",
      " [9 9]]\n",
      "[10 12 14 16 18]\n",
      "[0.   0.25 0.5  0.75 1.  ]\n",
      "[[0.96826702 0.09488261 0.38358317]\n",
      " [0.34148313 0.74309348 0.9412298 ]]\n"
     ]
    }
   ],
   "source": [
    "# 2x3 array of zeros\n",
    "arr4 = np.zeros((2, 3))\n",
    "print(arr4)\n",
    "\n",
    "# 3x2 array of ones\n",
    "arr5 = np.ones((3, 2))\n",
    "print(arr5)\n",
    "\n",
    "# 2x2 array filled with 9\n",
    "arr6 = np.full((2, 2), 9)\n",
    "print(arr6)\n",
    "\n",
    "\n",
    "# Array with elements from 10 to 19 (exclusive) with a step of 2\n",
    "arr7 = np.arange(10, 20, 2)\n",
    "print(arr7)\n",
    "\n",
    "# Array with 5 evenly spaced numbers between 0 and 1 (inclusive)\n",
    "arr8 = np.linspace(0, 1, 5)\n",
    "print(arr8)\n",
    "\n",
    "# 2x3 array of random numbers between 0 and 1\n",
    "arr9 = np.random.rand(2, 3)\n",
    "print(arr9)\n"
   ]
  },
  {
   "cell_type": "markdown",
   "metadata": {},
   "source": [
    "### Indexing and Slicing"
   ]
  },
  {
   "cell_type": "code",
   "execution_count": 5,
   "metadata": {},
   "outputs": [
    {
     "name": "stdout",
     "output_type": "stream",
     "text": [
      "10\n",
      "[30 40]\n",
      "[20 30 40 50]\n",
      "50\n"
     ]
    }
   ],
   "source": [
    "arr = np.array([10, 20, 30, 40, 50])\n",
    "\n",
    "print(arr[0])  # Get first element. Output: 10\n",
    "print(arr[2:4])  # Get elements in 3rd to 5th index. Output: [30 40]\n",
    "print(arr[1:])  # Get elements starting at 2nd index. Output: [20 30 40 50]\n",
    "print(arr[-1])  # Get last element. Output: 50\n",
    "\n",
    "arr[1] = 25  # Modify an element, at index 2nd.\n",
    "arr[3:] = [45, 55]  # Modify multiple elements, starting at index 4th\n"
   ]
  },
  {
   "cell_type": "markdown",
   "metadata": {},
   "source": [
    "### Broadcasting"
   ]
  },
  {
   "cell_type": "code",
   "execution_count": 6,
   "metadata": {},
   "outputs": [
    {
     "name": "stdout",
     "output_type": "stream",
     "text": [
      "[[11 22 33]\n",
      " [14 25 36]]\n"
     ]
    }
   ],
   "source": [
    "arr1 = np.array([[1, 2, 3], [4, 5, 6]])\n",
    "arr2 = np.array([10, 20, 30])\n",
    "result = arr1 + arr2\n",
    "\n",
    "print(result)\n"
   ]
  },
  {
   "cell_type": "markdown",
   "metadata": {},
   "source": [
    "### Vectorization"
   ]
  },
  {
   "cell_type": "code",
   "execution_count": 7,
   "metadata": {},
   "outputs": [
    {
     "name": "stdout",
     "output_type": "stream",
     "text": [
      "[5 7 9]\n",
      "[-3 -3 -3]\n",
      "[ 4 10 18]\n",
      "[0.25 0.4  0.5 ]\n"
     ]
    }
   ],
   "source": [
    "arr1 = np.array([1, 2, 3])\n",
    "arr2 = np.array([4, 5, 6])\n",
    "\n",
    "print(arr1 + arr2)  # Output: [5 7 9]\n",
    "print(arr1 - arr2)  # Output: [-3 -3 -3]\n",
    "print(arr1 * arr2)  # Output: [4 10 18]\n",
    "print(arr1 / arr2)  # Output: [0.25 0.4 0.5]\n"
   ]
  },
  {
   "cell_type": "markdown",
   "metadata": {},
   "source": [
    "### Universal Functions (ufuncs)"
   ]
  },
  {
   "cell_type": "code",
   "execution_count": 8,
   "metadata": {},
   "outputs": [
    {
     "name": "stdout",
     "output_type": "stream",
     "text": [
      "[0.0000000e+00 1.0000000e+00 1.2246468e-16]\n",
      "[ 1.000000e+00  6.123234e-17 -1.000000e+00]\n",
      "[ 1.          4.81047738 23.14069263]\n",
      "[      -inf 0.45158271 1.14472989]\n"
     ]
    },
    {
     "name": "stderr",
     "output_type": "stream",
     "text": [
      "/var/folders/qz/ncpxlmfj0ln46r4kg3jylt140000gn/T/ipykernel_44905/260786529.py:6: RuntimeWarning: divide by zero encountered in log\n",
      "  print(np.log(arr))  # Output: [-inf  0.45158271  1.14472989]\n"
     ]
    }
   ],
   "source": [
    "arr = np.array([0, np.pi/2, np.pi])\n",
    "\n",
    "print(np.sin(arr))  # Output: [0.0 1.0 0.0]\n",
    "print(np.cos(arr))  # Output: [ 1.0 0.0 -1.0]\n",
    "print(np.exp(arr))  # Output: [ 1.  2.71828183 23.14069263]\n",
    "print(np.log(arr))  # Output: [-inf  0.45158271  1.14472989]\n"
   ]
  },
  {
   "cell_type": "markdown",
   "metadata": {},
   "source": [
    "### Linear Algebra"
   ]
  },
  {
   "cell_type": "code",
   "execution_count": 9,
   "metadata": {},
   "outputs": [
    {
     "name": "stdout",
     "output_type": "stream",
     "text": [
      "[-4.   4.5]\n"
     ]
    }
   ],
   "source": [
    "A = np.array([[1, 2], [3, 4]])\n",
    "b = np.array([5, 6])\n",
    "\n",
    "x = np.linalg.solve(A, b)\n",
    "print(x)  # Output: [-4.  4.5]\n"
   ]
  },
  {
   "cell_type": "markdown",
   "metadata": {},
   "source": [
    "### Random Number Generation"
   ]
  },
  {
   "cell_type": "code",
   "execution_count": 10,
   "metadata": {},
   "outputs": [
    {
     "name": "stdout",
     "output_type": "stream",
     "text": [
      "[[0.73260584 0.52278857 0.44716718]\n",
      " [0.71060512 0.26267776 0.99850241]]\n"
     ]
    }
   ],
   "source": [
    "random_array = np.random.rand(2, 3)  # 2x3 array of random numbers between 0 and 1\n",
    "print(random_array)\n"
   ]
  },
  {
   "cell_type": "markdown",
   "metadata": {},
   "source": [
    "### Fourier Transforms"
   ]
  },
  {
   "cell_type": "code",
   "execution_count": 11,
   "metadata": {},
   "outputs": [
    {
     "name": "stdout",
     "output_type": "stream",
     "text": [
      "[0.+0.j 0.-2.j 0.+0.j 0.+2.j]\n"
     ]
    }
   ],
   "source": [
    "# Simple example of a Fourier transform\n",
    "signal = np.array([0, 1, 0, -1])\n",
    "transformed_signal = np.fft.fft(signal)\n",
    "print(transformed_signal)\n"
   ]
  },
  {
   "cell_type": "markdown",
   "metadata": {},
   "source": [
    "### Boolean Indexing"
   ]
  },
  {
   "cell_type": "code",
   "execution_count": 12,
   "metadata": {},
   "outputs": [
    {
     "name": "stdout",
     "output_type": "stream",
     "text": [
      "[3 4 5]\n"
     ]
    }
   ],
   "source": [
    "arr = np.array([1, 2, 3, 4, 5])\n",
    "mask = arr > 2\n",
    "print(arr[mask])  # Output: [3 4 5]\n"
   ]
  },
  {
   "cell_type": "markdown",
   "metadata": {},
   "source": [
    "### Fancy Indexing"
   ]
  },
  {
   "cell_type": "code",
   "execution_count": 13,
   "metadata": {},
   "outputs": [
    {
     "name": "stdout",
     "output_type": "stream",
     "text": [
      "[20 40]\n"
     ]
    }
   ],
   "source": [
    "arr = np.array([10, 20, 30, 40, 50])\n",
    "indices = np.array([1, 3])\n",
    "print(arr[indices])  # Output: [20 40]\n"
   ]
  },
  {
   "cell_type": "markdown",
   "metadata": {},
   "source": [
    "### Performance Optimization"
   ]
  },
  {
   "cell_type": "code",
   "execution_count": 14,
   "metadata": {},
   "outputs": [],
   "source": [
    "arr = np.array([1, 2, 3])\n",
    "arr_view = arr.view()\n"
   ]
  },
  {
   "cell_type": "markdown",
   "metadata": {},
   "source": [
    "### File I/O"
   ]
  },
  {
   "cell_type": "code",
   "execution_count": 15,
   "metadata": {},
   "outputs": [
    {
     "name": "stdout",
     "output_type": "stream",
     "text": [
      "[1 2 3]\n"
     ]
    }
   ],
   "source": [
    "arr = np.array([1, 2, 3])\n",
    "np.save('array.npy', arr)\n",
    "\n",
    "loaded_arr = np.load('array.npy')\n",
    "print(loaded_arr)  # Output: [1 2 3]\n"
   ]
  },
  {
   "cell_type": "markdown",
   "metadata": {},
   "source": [
    "### Arithmetic Operations"
   ]
  },
  {
   "cell_type": "code",
   "execution_count": 16,
   "metadata": {},
   "outputs": [
    {
     "name": "stdout",
     "output_type": "stream",
     "text": [
      "[5 7 9]\n",
      "[-3 -3 -3]\n",
      "[ 4 10 18]\n",
      "[0.25 0.4  0.5 ]\n"
     ]
    }
   ],
   "source": [
    "arr1 = np.array([1, 2, 3])\n",
    "arr2 = np.array([4, 5, 6])\n",
    "\n",
    "print(arr1 + arr2)  # Output: [5 7 9]\n",
    "print(arr1 - arr2)  # Output: [-3 -3 -3]\n",
    "print(arr1 * arr2)  # Output: [4 10 18]\n",
    "print(arr1 / arr2)  # Output: [0.25 0.4 0.5]\n"
   ]
  },
  {
   "cell_type": "markdown",
   "metadata": {},
   "source": [
    "### Mathematical Functions"
   ]
  },
  {
   "cell_type": "code",
   "execution_count": 17,
   "metadata": {},
   "outputs": [
    {
     "name": "stdout",
     "output_type": "stream",
     "text": [
      "[0.0000000e+00 1.0000000e+00 1.2246468e-16]\n",
      "[ 1.000000e+00  6.123234e-17 -1.000000e+00]\n",
      "[ 1.          4.81047738 23.14069263]\n",
      "[      -inf 0.45158271 1.14472989]\n"
     ]
    },
    {
     "name": "stderr",
     "output_type": "stream",
     "text": [
      "/var/folders/qz/ncpxlmfj0ln46r4kg3jylt140000gn/T/ipykernel_44905/784492775.py:6: RuntimeWarning: divide by zero encountered in log\n",
      "  print(np.log(arr))  # Output: [-inf  0.45158271  1.14472989]\n"
     ]
    }
   ],
   "source": [
    "arr = np.array([0, np.pi/2, np.pi])\n",
    "\n",
    "print(np.sin(arr))  # Output: [0.0 1.0 0.0]\n",
    "print(np.cos(arr))  # Output: [ 1.0 0.0 -1.0]\n",
    "print(np.exp(arr))  # Output: [ 1.          2.71828183 23.14069263]\n",
    "print(np.log(arr))  # Output: [-inf  0.45158271  1.14472989]\n"
   ]
  },
  {
   "cell_type": "markdown",
   "metadata": {},
   "source": [
    "## NumPy in Machine Learning"
   ]
  },
  {
   "cell_type": "markdown",
   "metadata": {},
   "source": [
    "### Feature Scaling"
   ]
  },
  {
   "cell_type": "code",
   "execution_count": 18,
   "metadata": {},
   "outputs": [
    {
     "name": "stdout",
     "output_type": "stream",
     "text": [
      "[[-0.33968311 -1.06904497]\n",
      " [ 1.35873244  1.33630621]\n",
      " [-1.01904933 -0.26726124]]\n"
     ]
    }
   ],
   "source": [
    "data = np.array([[10, 2], [15, 5], [8, 3]])\n",
    "scaled_data = (data - np.mean(data, axis=0)) / np.std(data, axis=0)\n",
    "print(scaled_data)\n"
   ]
  },
  {
   "cell_type": "markdown",
   "metadata": {},
   "source": [
    "### Data Transformation"
   ]
  },
  {
   "cell_type": "code",
   "execution_count": 19,
   "metadata": {},
   "outputs": [
    {
     "name": "stdout",
     "output_type": "stream",
     "text": [
      "Reshaped Data:\n",
      " [[1 2]\n",
      " [3 4]\n",
      " [5 6]]\n",
      "\n",
      "Transposed Data:\n",
      " [[1 4]\n",
      " [2 5]\n",
      " [3 6]]\n",
      "\n",
      "Flattened Data:\n",
      " [1 2 3 4 5 6]\n"
     ]
    }
   ],
   "source": [
    "import numpy as np\n",
    "\n",
    "# Original data\n",
    "data = np.array([[1, 2, 3],\n",
    "                 [4, 5, 6]])\n",
    "\n",
    "# Reshaping\n",
    "reshaped_data = data.reshape(3, 2)  # Change to a 3x2 array\n",
    "print(\"Reshaped Data:\\n\", reshaped_data)\n",
    "\n",
    "# Transposing\n",
    "transposed_data = data.T  # Swap rows and columns\n",
    "print(\"\\nTransposed Data:\\n\", transposed_data)\n",
    "\n",
    "# Flattening\n",
    "flattened_data = data.flatten()  # Convert to a 1D array\n",
    "print(\"\\nFlattened Data:\\n\", flattened_data)\n"
   ]
  },
  {
   "cell_type": "markdown",
   "metadata": {},
   "source": [
    "# Pandas"
   ]
  },
  {
   "cell_type": "markdown",
   "metadata": {},
   "source": [
    "### Reading Data"
   ]
  },
  {
   "cell_type": "code",
   "execution_count": 20,
   "metadata": {},
   "outputs": [
    {
     "name": "stdout",
     "output_type": "stream",
     "text": [
      "   A  B   C\n",
      "0  1  4   7\n",
      "1  2 -5  -8\n",
      "2 -3  6   9\n",
      "3  4 -7  10\n"
     ]
    }
   ],
   "source": [
    "import pandas as pd\n",
    "\n",
    "df = pd.read_csv(\"data.csv\")  # Load data from a CSV file\n",
    "print(df.head())  # Display the first few rows of the dataframe\n"
   ]
  },
  {
   "cell_type": "markdown",
   "metadata": {},
   "source": [
    "### Cleaning data"
   ]
  },
  {
   "cell_type": "code",
   "execution_count": 21,
   "metadata": {},
   "outputs": [
    {
     "name": "stdout",
     "output_type": "stream",
     "text": [
      "   A  B   C\n",
      "0  1  4   7\n",
      "1  2 -5  -8\n",
      "2 -3  6   9\n",
      "3  4 -7  10\n"
     ]
    }
   ],
   "source": [
    "# Remove rows with missing values\n",
    "df.dropna(inplace=True)\n",
    "\n",
    "# Fill missing values with 0\n",
    "df.fillna(0, inplace=True)\n",
    "\n",
    "# Remove duplicate rows\n",
    "df.drop_duplicates(inplace=True)\n",
    "\n",
    "# Display the cleaned dataframe\n",
    "print(df.head())\n"
   ]
  },
  {
   "cell_type": "markdown",
   "metadata": {},
   "source": [
    "### Transforming data"
   ]
  },
  {
   "cell_type": "code",
   "execution_count": 22,
   "metadata": {},
   "outputs": [
    {
     "name": "stdout",
     "output_type": "stream",
     "text": [
      "    A  B  new_column\n",
      "0   8  4           5\n",
      "1 -10 -5          -3\n",
      "2  12  6           3\n",
      "3 -14 -7          -3\n"
     ]
    }
   ],
   "source": [
    "df[\"new_column\"] = df[\"A\"] + df[\"B\"]  # Add a new column\n",
    "df.drop(\"C\", axis=1, inplace=True)  # Delete a column\n",
    "df[\"A\"] = df[\"B\"] * 2  # Modify a column\n",
    "# Display the transformed dataframe \n",
    "print(df.head())\n"
   ]
  },
  {
   "cell_type": "markdown",
   "metadata": {},
   "source": [
    "### Advanced Transformation"
   ]
  },
  {
   "cell_type": "code",
   "execution_count": 23,
   "metadata": {},
   "outputs": [
    {
     "name": "stdout",
     "output_type": "stream",
     "text": [
      "Merged DataFrame:\n",
      "    common_column value1 value2\n",
      "0              1      A      D\n",
      "1              2      B      E \n",
      "\n",
      "Concatenated DataFrame:\n",
      "    common_column value1 value2\n",
      "0              1      A    NaN\n",
      "1              2      B    NaN\n",
      "2              3      C    NaN\n",
      "0              1    NaN      D\n",
      "1              2    NaN      E \n",
      "\n",
      "Pivoted DataFrame:\n",
      " category     X   Y\n",
      "date              \n",
      "2021-01-01  10  30\n",
      "2021-01-02  20  40 \n",
      "\n",
      "Stacked DataFrame:\n",
      " 0  date        2021-01-01\n",
      "   category             X\n",
      "   value               10\n",
      "1  date        2021-01-02\n",
      "   category             X\n",
      "dtype: object \n",
      "\n"
     ]
    }
   ],
   "source": [
    "import pandas as pd\n",
    "\n",
    "# Sample data for demonstration\n",
    "data1 = {\n",
    "    \"common_column\": [1, 2, 3],\n",
    "    \"value1\": [\"A\", \"B\", \"C\"]\n",
    "}\n",
    "\n",
    "data2 = {\n",
    "    \"common_column\": [1, 2, 4],\n",
    "    \"value2\": [\"D\", \"E\", \"F\"]\n",
    "}\n",
    "\n",
    "data = {\n",
    "    \"date\": [\"2021-01-01\", \"2021-01-02\", \"2021-01-01\", \"2021-01-02\"],\n",
    "    \"category\": [\"X\", \"X\", \"Y\", \"Y\"],\n",
    "    \"value\": [10, 20, 30, 40]\n",
    "}\n",
    "\n",
    "df1 = pd.DataFrame(data1)\n",
    "df2 = pd.DataFrame(data2)\n",
    "df = pd.DataFrame(data)\n",
    "\n",
    "# Merging two dataframes on a common column\n",
    "merged_df = pd.merge(df1, df2, on=\"common_column\")\n",
    "\n",
    "# Concatenating two dataframes\n",
    "concatenated_df = pd.concat([df1, df2], axis=0)\n",
    "\n",
    "# Reshaping a dataframe with pivot\n",
    "pivot_df = df.pivot(index=\"date\", columns=\"category\", values=\"value\")\n",
    "\n",
    "# Stacking a dataframe\n",
    "stacked_df = df.stack()\n",
    "\n",
    "# Display the transformed dataframes\n",
    "print(\"Merged DataFrame:\\n\", merged_df.head(), \"\\n\")\n",
    "print(\"Concatenated DataFrame:\\n\", concatenated_df.head(), \"\\n\")\n",
    "print(\"Pivoted DataFrame:\\n\", pivot_df.head(), \"\\n\")\n",
    "print(\"Stacked DataFrame:\\n\", stacked_df.head(), \"\\n\")\n"
   ]
  },
  {
   "cell_type": "markdown",
   "metadata": {},
   "source": [
    "### Data types and conversion"
   ]
  },
  {
   "cell_type": "code",
   "execution_count": 24,
   "metadata": {},
   "outputs": [],
   "source": [
    "import pandas as pd\n",
    "\n",
    "# Create a sample dataframe\n",
    "data = {\n",
    "    \"numeric_column\": [\"1\", \"2\", \"3\", \"4\", \"5\"],\n",
    "    \"date_column\": [\"2021-01-01\", \"2021-01-02\", \"2021-01-03\", \"2021-01-04\", \"2021-01-05\"],\n",
    "    \"category_column\": [\"A\", \"B\", \"A\", \"B\", \"A\"]\n",
    "}\n",
    "\n",
    "df = pd.DataFrame(data)\n",
    "\n",
    "# Save the dataframe to a CSV file\n",
    "df.to_csv(\"data2.csv\", index=False)"
   ]
  },
  {
   "cell_type": "code",
   "execution_count": 25,
   "metadata": {},
   "outputs": [
    {
     "name": "stdout",
     "output_type": "stream",
     "text": [
      "numeric_column              int64\n",
      "date_column        datetime64[ns]\n",
      "category_column          category\n",
      "dtype: object\n"
     ]
    }
   ],
   "source": [
    "# Load dataset\n",
    "df = pd.read_csv(\"data2.csv\")\n",
    "\n",
    "# Convert a column to numeric\n",
    "df[\"numeric_column\"] = pd.to_numeric(df[\"numeric_column\"])\n",
    "\n",
    "# Convert a column to datetime\n",
    "df[\"date_column\"] = pd.to_datetime(df[\"date_column\"])\n",
    "\n",
    "# Convert a column to categorical\n",
    "df[\"category_column\"] = df[\"category_column\"].astype('category')\n",
    "\n",
    "# Display the dataframe with updated data types\n",
    "print(df.dtypes)\n"
   ]
  },
  {
   "cell_type": "markdown",
   "metadata": {},
   "source": [
    "### Categorical data"
   ]
  },
  {
   "cell_type": "code",
   "execution_count": 26,
   "metadata": {},
   "outputs": [
    {
     "name": "stdout",
     "output_type": "stream",
     "text": [
      "  category_column\n",
      "0               A\n",
      "1               B\n",
      "2               A\n",
      "3               C\n",
      "4               B\n"
     ]
    }
   ],
   "source": [
    "import pandas as pd\n",
    "\n",
    "# Create a sample dataframe\n",
    "data = {\n",
    "    \"category_column\": [\"A\", \"B\", \"A\", \"C\", \"B\"]\n",
    "}\n",
    "\n",
    "# Save the dataframe to a CSV file\n",
    "df = pd.DataFrame(data)\n",
    "df.to_csv(\"categorical_data.csv\", index=False)\n",
    "\n",
    "# Load dataset\n",
    "df = pd.read_csv(\"categorical_data.csv\")\n",
    "\n",
    "# Convert a column to categorical type\n",
    "df[\"category_column\"] = df[\"category_column\"].astype('category')\n",
    "\n",
    "# Display the dataframe with categorical data\n",
    "print(df.head())"
   ]
  },
  {
   "cell_type": "code",
   "execution_count": 27,
   "metadata": {},
   "outputs": [
    {
     "name": "stdout",
     "output_type": "stream",
     "text": [
      "   category_column_A  category_column_B  category_column_C\n",
      "0               True              False              False\n",
      "1              False               True              False\n",
      "2               True              False              False\n",
      "3              False              False               True\n",
      "4              False               True              False\n"
     ]
    }
   ],
   "source": [
    "# One-Hot Encode the categorical column\n",
    "df_one_hot_encoded = pd.get_dummies(df, columns=[\"category_column\"])\n",
    "\n",
    "# Display the one-hot encoded dataframe\n",
    "print(df_one_hot_encoded.head())\n"
   ]
  },
  {
   "cell_type": "code",
   "execution_count": 28,
   "metadata": {},
   "outputs": [
    {
     "name": "stdout",
     "output_type": "stream",
     "text": [
      "  category_column  encoded_column\n",
      "0               A               0\n",
      "1               B               1\n",
      "2               A               0\n",
      "3               C               2\n",
      "4               B               1\n"
     ]
    }
   ],
   "source": [
    "from sklearn.preprocessing import LabelEncoder\n",
    "\n",
    "# Initialize label encoder\n",
    "label_encoder = LabelEncoder()\n",
    "\n",
    "# Apply label encoding to a categorical column\n",
    "df[\"encoded_column\"] = label_encoder.fit_transform(df[\"category_column\"])\n",
    "\n",
    "# Display the dataframe with encoded categorical data\n",
    "print(df.head())\n"
   ]
  },
  {
   "cell_type": "markdown",
   "metadata": {},
   "source": [
    "### Data aggregation and grouping"
   ]
  },
  {
   "cell_type": "code",
   "execution_count": 29,
   "metadata": {},
   "outputs": [
    {
     "name": "stdout",
     "output_type": "stream",
     "text": [
      "category\n",
      "A    250\n",
      "B    330\n",
      "C    210\n",
      "Name: sales, dtype: int64\n"
     ]
    }
   ],
   "source": [
    "import pandas as pd\n",
    "\n",
    "# Sample dataset\n",
    "data = {\n",
    "    'category': ['A', 'A', 'B', 'B', 'C', 'C'],\n",
    "    'sales': [100, 150, 200, 130, 90, 120]\n",
    "}\n",
    "df = pd.DataFrame(data)\n",
    "\n",
    "# Group by category and sum sales\n",
    "grouped = df.groupby(\"category\")[\"sales\"].sum()\n",
    "\n",
    "# Display the grouped data\n",
    "print(grouped)\n"
   ]
  },
  {
   "cell_type": "markdown",
   "metadata": {},
   "source": [
    "### Pivot tables"
   ]
  },
  {
   "cell_type": "code",
   "execution_count": 30,
   "metadata": {},
   "outputs": [
    {
     "name": "stdout",
     "output_type": "stream",
     "text": [
      "year       2020   2021\n",
      "category              \n",
      "A         100.0  150.0\n",
      "B         200.0  130.0\n",
      "C          90.0  120.0\n"
     ]
    }
   ],
   "source": [
    "# Sample dataset\n",
    "data = {\n",
    "    'category': ['A', 'A', 'B', 'B', 'C', 'C'],\n",
    "    'year': [2020, 2021, 2020, 2021, 2020, 2021],\n",
    "    'sales': [100, 150, 200, 130, 90, 120]\n",
    "}\n",
    "df = pd.DataFrame(data)\n",
    "\n",
    "# Create a pivot table\n",
    "pivot_table = df.pivot_table(values=\"sales\", index=\"category\", columns=\"year\")\n",
    "\n",
    "# Display the pivot table\n",
    "print(pivot_table)\n"
   ]
  },
  {
   "cell_type": "markdown",
   "metadata": {},
   "source": [
    "### Advanced data manipulation"
   ]
  },
  {
   "cell_type": "code",
   "execution_count": 31,
   "metadata": {},
   "outputs": [
    {
     "name": "stdout",
     "output_type": "stream",
     "text": [
      "A    1\n",
      "B    4\n",
      "C    7\n",
      "Name: 2020-01-01 00:00:00, dtype: int64\n",
      "            A  B   C\n",
      "2020-01-01  1  4   7\n",
      "2020-01-02  2 -5  -8\n",
      "2020-01-03 -3  6   9\n",
      "2020-01-04  4 -7  10\n",
      "            A  B   C\n",
      "2020-01-01  1  4   7\n",
      "2020-01-02  2 -5  -8\n",
      "2020-01-04  4 -7  10\n"
     ]
    }
   ],
   "source": [
    "import pandas as pd\n",
    "\n",
    "# Sample dataset with datetime index\n",
    "data = {\n",
    "    'A': [1, 2, -3, 4],\n",
    "    'B': [4, -5, 6, -7],\n",
    "    'C': [7, -8, 9, 10]\n",
    "}\n",
    "df = pd.DataFrame(data, index=pd.date_range('2020-01-01', periods=4))\n",
    "\n",
    "# Selecting rows by label\n",
    "row = df.loc['2020-01-01']\n",
    "\n",
    "# Selecting columns by label range\n",
    "cols = df.loc[:, 'A':'C']\n",
    "\n",
    "# Boolean indexing with labels\n",
    "filtered = df.loc[df['A'] > 0]\n",
    "\n",
    "print(row)\n",
    "print(cols)\n",
    "print(filtered)\n"
   ]
  },
  {
   "cell_type": "code",
   "execution_count": 32,
   "metadata": {},
   "outputs": [
    {
     "name": "stdout",
     "output_type": "stream",
     "text": [
      "A    1\n",
      "B    4\n",
      "C    7\n",
      "Name: 2020-01-01 00:00:00, dtype: int64\n",
      "            B   C\n",
      "2020-01-01  4   7\n",
      "2020-01-02 -5  -8\n",
      "2020-01-03  6   9\n",
      "2020-01-04 -7  10\n",
      "            A  B\n",
      "2020-01-02  2 -5\n",
      "2020-01-03 -3  6\n",
      "2020-01-04  4 -7\n"
     ]
    }
   ],
   "source": [
    "# Selecting rows by position\n",
    "row = df.iloc[0]\n",
    "\n",
    "# Selecting columns by position range\n",
    "cols = df.iloc[:, 1:3]\n",
    "\n",
    "# Slicing rows and columns by position\n",
    "slice = df.iloc[1:5, 0:2]\n",
    "\n",
    "print(row)\n",
    "print(cols)\n",
    "print(slice)\n"
   ]
  },
  {
   "cell_type": "markdown",
   "metadata": {},
   "source": [
    "### Boolean indexing"
   ]
  },
  {
   "cell_type": "code",
   "execution_count": 33,
   "metadata": {},
   "outputs": [
    {
     "name": "stdout",
     "output_type": "stream",
     "text": [
      "            A  B   C\n",
      "2020-01-01  1  4   7\n",
      "2020-01-02  2 -5  -8\n",
      "2020-01-04  4 -7  10\n",
      "            A  B   C\n",
      "2020-01-02  2 -5  -8\n",
      "2020-01-04  4 -7  10\n"
     ]
    }
   ],
   "source": [
    "# Filtering data based on conditions\n",
    "filtered_A = df[df['A'] > 0]\n",
    "filtered_AB = df[(df['A'] > 0) & (df['B'] < 0)]\n",
    "\n",
    "print(filtered_A)\n",
    "print(filtered_AB)\n"
   ]
  },
  {
   "cell_type": "markdown",
   "metadata": {},
   "source": [
    "### Multi indexing"
   ]
  },
  {
   "cell_type": "code",
   "execution_count": 34,
   "metadata": {},
   "outputs": [
    {
     "name": "stdout",
     "output_type": "stream",
     "text": [
      "                     A         B\n",
      "first second                    \n",
      "bar   one    -1.725537  1.977860\n",
      "      two     0.644810  0.410065\n",
      "baz   one     0.022278  1.119772\n",
      "      two     0.082882  1.400169\n"
     ]
    }
   ],
   "source": [
    "import numpy as np\n",
    "\n",
    "# Creating and manipulating MultiIndex objects\n",
    "arrays = [np.array(['bar', 'bar', 'baz', 'baz']),\n",
    "          np.array(['one', 'two', 'one', 'two'])]\n",
    "df_multi = pd.DataFrame(np.random.randn(4, 2), index=arrays, columns=['A', 'B'])\n",
    "df_multi.index.names = ['first', 'second']\n",
    "\n",
    "print(df_multi)\n"
   ]
  },
  {
   "cell_type": "markdown",
   "metadata": {},
   "source": [
    "### Vectorization"
   ]
  },
  {
   "cell_type": "code",
   "execution_count": 35,
   "metadata": {},
   "outputs": [
    {
     "name": "stdout",
     "output_type": "stream",
     "text": [
      "   column1  column2  numeric_column  new_column  log_values\n",
      "0        1       10               1          11    0.000000\n",
      "1        2       20               2          22    0.693147\n",
      "2        3       30               3          33    1.098612\n",
      "3        4       40               4          44    1.386294\n",
      "4        5       50               5          55    1.609438\n"
     ]
    }
   ],
   "source": [
    "import pandas as pd\n",
    "import numpy as np\n",
    "\n",
    "# Create a sample dataframe\n",
    "data = {\n",
    "    \"column1\": [1, 2, 3, 4, 5],\n",
    "    \"column2\": [10, 20, 30, 40, 50],\n",
    "    \"numeric_column\": [1, 2, 3, 4, 5]\n",
    "}\n",
    "\n",
    "df = pd.DataFrame(data)\n",
    "\n",
    "# Vectorized arithmetic operations\n",
    "df['new_column'] = df['column1'] + df['column2']\n",
    "\n",
    "# Applying NumPy functions\n",
    "df['log_values'] = np.log(df['numeric_column'])\n",
    "\n",
    "# Display the dataframe with the new columns\n",
    "print(df.head())"
   ]
  },
  {
   "cell_type": "code",
   "execution_count": 36,
   "metadata": {},
   "outputs": [],
   "source": [
    "# Using vectorized operation instead of iteration\n",
    "df['new_column'] = df['column1'] + df['column2']\n"
   ]
  },
  {
   "cell_type": "code",
   "execution_count": 37,
   "metadata": {},
   "outputs": [
    {
     "name": "stdout",
     "output_type": "stream",
     "text": [
      "   column  processed_column_apply  processed_column_vectorized\n",
      "0       1                       2                            2\n",
      "1       2                       4                            4\n",
      "2       3                       6                            6\n",
      "3       4                       8                            8\n",
      "4       5                      10                           10\n"
     ]
    }
   ],
   "source": [
    "import pandas as pd\n",
    "\n",
    "# Define a custom function\n",
    "def custom_function(x):\n",
    "    return x * 2\n",
    "\n",
    "# Create a sample dataframe\n",
    "data = {\n",
    "    \"column\": [1, 2, 3, 4, 5]\n",
    "}\n",
    "\n",
    "df = pd.DataFrame(data)\n",
    "\n",
    "# Using apply with a lambda function\n",
    "df['processed_column_apply'] = df['column'].apply(lambda x: custom_function(x))\n",
    "\n",
    "# Using vectorized operations\n",
    "df['processed_column_vectorized'] = custom_function(df['column'])\n",
    "\n",
    "# Display the dataframe with the new columns\n",
    "print(df.head())\n"
   ]
  },
  {
   "cell_type": "code",
   "execution_count": 38,
   "metadata": {},
   "outputs": [
    {
     "name": "stdout",
     "output_type": "stream",
     "text": [
      "Memory usage before optimization:\n",
      "Index             132\n",
      "numeric_column     40\n",
      "dtype: int64\n",
      "\n",
      "Memory usage after optimization:\n",
      "Index             132\n",
      "numeric_column     10\n",
      "dtype: int64\n"
     ]
    }
   ],
   "source": [
    "import pandas as pd\n",
    "\n",
    "# Create a sample dataframe\n",
    "data = {\n",
    "    \"numeric_column\": [100, 200, 300, 400, 500]\n",
    "}\n",
    "\n",
    "df = pd.DataFrame(data)\n",
    "\n",
    "# Check memory usage of each column\n",
    "print(\"Memory usage before optimization:\")\n",
    "print(df.memory_usage())\n",
    "\n",
    "# Optimize memory usage by converting data types\n",
    "df['numeric_column'] = pd.to_numeric(df['numeric_column'], downcast='integer')\n",
    "\n",
    "# Check memory usage of each column after optimization\n",
    "print(\"\\nMemory usage after optimization:\")\n",
    "print(df.memory_usage())\n"
   ]
  },
  {
   "cell_type": "markdown",
   "metadata": {},
   "source": [
    "# Matplotlib"
   ]
  },
  {
   "cell_type": "markdown",
   "metadata": {},
   "source": [
    "### Linear plots"
   ]
  },
  {
   "cell_type": "code",
   "execution_count": 39,
   "metadata": {},
   "outputs": [
    {
     "data": {
      "image/png": "[encoded data removed]",
      "text/plain": [
       "<Figure size 640x480 with 1 Axes>"
      ]
     },
     "metadata": {},
     "output_type": "display_data"
    }
   ],
   "source": [
    "import matplotlib.pyplot as plt\n",
    "import numpy as np\n",
    "\n",
    "# Sample data: Simulating model accuracy over epochs\n",
    "epochs = np.arange(1, 11)\n",
    "accuracy = np.linspace(0.5, 0.95, 10) \n",
    "\n",
    "plt.plot(epochs, accuracy)\n",
    "plt.xlabel(\"Epochs\")\n",
    "plt.ylabel(\"Accuracy\")\n",
    "plt.title(\"Model Accuracy During Training\")\n",
    "plt.grid(True) # Add gridlines\n",
    "plt.show()\n"
   ]
  },
  {
   "cell_type": "markdown",
   "metadata": {},
   "source": [
    "### Scatter plots"
   ]
  },
  {
   "cell_type": "code",
   "execution_count": 40,
   "metadata": {},
   "outputs": [
    {
     "data": {
      "image/png": "[encoded data removed]",
      "text/plain": [
       "<Figure size 640x480 with 1 Axes>"
      ]
     },
     "metadata": {},
     "output_type": "display_data"
    }
   ],
   "source": [
    "import matplotlib.pyplot as plt\n",
    "import numpy as np\n",
    "\n",
    "# Sample data: Simulating the relationship between learning rate and model loss\n",
    "learning_rates = np.array([0.001, 0.01, 0.1, 1])\n",
    "loss_values = np.array([0.8, 0.5, 0.2, 0.3])\n",
    "\n",
    "plt.scatter(learning_rates, loss_values, marker='o', s=100)  \n",
    "plt.xlabel(\"Learning Rate\")\n",
    "plt.ylabel(\"Loss\")\n",
    "plt.title(\"Effect of Learning Rate on Model Loss\")\n",
    "plt.xscale('log') # Use logarithmic scale for learning rate \n",
    "plt.show()\n"
   ]
  },
  {
   "cell_type": "markdown",
   "metadata": {},
   "source": [
    "### Bar charts"
   ]
  },
  {
   "cell_type": "code",
   "execution_count": 41,
   "metadata": {},
   "outputs": [
    {
     "data": {
      "image/png": "[encoded data removed]",
      "text/plain": [
       "<Figure size 640x480 with 1 Axes>"
      ]
     },
     "metadata": {},
     "output_type": "display_data"
    }
   ],
   "source": [
    "import matplotlib.pyplot as plt\n",
    "\n",
    "# Sample data: Comparing the accuracy of different ML models\n",
    "models = ['Logistic Regression', 'Decision Tree', 'SVM', 'Random Forest']\n",
    "accuracies = [0.75, 0.82, 0.85, 0.90]\n",
    "\n",
    "plt.bar(models, accuracies, color=['blue', 'green', 'red', 'purple']) \n",
    "plt.xlabel(\"Machine Learning Models\")\n",
    "plt.ylabel(\"Accuracy\")\n",
    "plt.title(\"Model Accuracy Comparison\")\n",
    "plt.ylim(0, 1) # Set y-axis limits for better visualization\n",
    "plt.show()\n"
   ]
  },
  {
   "cell_type": "markdown",
   "metadata": {},
   "source": [
    "### Histograms"
   ]
  },
  {
   "cell_type": "code",
   "execution_count": 42,
   "metadata": {},
   "outputs": [
    {
     "data": {
      "image/png": "[encoded data removed]",
      "text/plain": [
       "<Figure size 640x480 with 1 Axes>"
      ]
     },
     "metadata": {},
     "output_type": "display_data"
    }
   ],
   "source": [
    "import matplotlib.pyplot as plt\n",
    "import numpy as np\n",
    "\n",
    "# Sample data: Generating data with a normal distribution\n",
    "data = np.random.randn(1000) \n",
    "\n",
    "plt.hist(data, bins=30, edgecolor='black') \n",
    "plt.xlabel(\"Values\")\n",
    "plt.ylabel(\"Frequency\")\n",
    "plt.title(\"Histogram of Randomly Generated Data\")\n",
    "plt.show()\n"
   ]
  },
  {
   "cell_type": "markdown",
   "metadata": {},
   "source": [
    "### Confussion Matrix"
   ]
  },
  {
   "cell_type": "code",
   "execution_count": 43,
   "metadata": {},
   "outputs": [
    {
     "data": {
      "image/png": "[encoded data removed]",
      "text/plain": [
       "<Figure size 640x480 with 2 Axes>"
      ]
     },
     "metadata": {},
     "output_type": "display_data"
    }
   ],
   "source": [
    "import matplotlib.pyplot as plt\n",
    "import numpy as np\n",
    "from itertools import product\n",
    "\n",
    "# Sample confusion matrix (replace with your model's output)\n",
    "confusion_matrix = np.array([[90, 10], \n",
    "                              [5, 95]])\n",
    "\n",
    "# Function to plot the confusion matrix with labels\n",
    "def plot_confusion_matrix(cm, classes, title='Confusion Matrix', cmap=plt.cm.Blues):\n",
    "    plt.imshow(cm, interpolation='nearest', cmap=cmap)\n",
    "    plt.title(title)\n",
    "    plt.colorbar()\n",
    "    tick_marks = np.arange(len(classes))\n",
    "    plt.xticks(tick_marks, classes, rotation=45)\n",
    "    plt.yticks(tick_marks, classes)\n",
    "\n",
    "    thresh = cm.max() / 2.\n",
    "    for i, j in product(range(cm.shape[0]), range(cm.shape[1])):\n",
    "        plt.text(j, i, format(cm[i, j], 'd'),\n",
    "                 horizontalalignment=\"center\",\n",
    "                 color=\"white\" if cm[i, j] > thresh else \"black\")\n",
    "\n",
    "    plt.tight_layout()\n",
    "    plt.ylabel('True Label')\n",
    "    plt.xlabel('Predicted Label')\n",
    "\n",
    "# Example class labels \n",
    "class_names = ['Class 0', 'Class 1'] \n",
    "\n",
    "# Plot the confusion matrix\n",
    "plt.figure()\n",
    "plot_confusion_matrix(confusion_matrix, classes=class_names)\n",
    "plt.show()\n"
   ]
  },
  {
   "cell_type": "markdown",
   "metadata": {},
   "source": [
    "### Visualizing Image Data and Feature Maps in CNNs"
   ]
  },
  {
   "cell_type": "code",
   "execution_count": 44,
   "metadata": {},
   "outputs": [
    {
     "data": {
      "image/png": "[encoded data removed]",
      "text/plain": [
       "<Figure size 640x480 with 1 Axes>"
      ]
     },
     "metadata": {},
     "output_type": "display_data"
    },
    {
     "data": {
      "image/png": "[encoded data removed]",
      "text/plain": [
       "<Figure size 1000x500 with 8 Axes>"
      ]
     },
     "metadata": {},
     "output_type": "display_data"
    }
   ],
   "source": [
    "import matplotlib.pyplot as plt\n",
    "import numpy as np\n",
    "\n",
    "# Sample image data (replace with your  image)\n",
    "image = np.random.rand(28, 28) # Simulating a 28x28 grayscale image \n",
    "\n",
    "# Sample feature maps (replace with output from your CNN layer)\n",
    "feature_maps = np.random.rand(8, 10, 10) # 8 filters, each producing a 10x10 feature map\n",
    "\n",
    "# Plot the original image\n",
    "plt.figure()\n",
    "plt.imshow(image, cmap='gray')\n",
    "plt.title(\"Original Image\")\n",
    "plt.axis('off') \n",
    "\n",
    "# Plot the feature maps\n",
    "plt.figure(figsize=(10, 5)) # Adjust figure size as needed\n",
    "for i in range(feature_maps.shape[0]): \n",
    "    plt.subplot(2, 4, i+1) # Create subplots (2 rows, 4 columns)\n",
    "    plt.imshow(feature_maps[i], cmap='viridis') \n",
    "    plt.title(f\"Feature Map {i+1}\")\n",
    "    plt.axis('off') \n",
    "\n",
    "plt.tight_layout()\n",
    "plt.show()\n"
   ]
  }
 ],
 "metadata": {
  "kernelspec": {
   "display_name": ".venv",
   "language": "python",
   "name": "python3"
  },
  "language_info": {
   "codemirror_mode": {
    "name": "ipython",
    "version": 3
   },
   "file_extension": ".py",
   "mimetype": "text/x-python",
   "name": "python",
   "nbconvert_exporter": "python",
   "pygments_lexer": "ipython3",
   "version": "3.13.1"
  }
 },
 "nbformat": 4,
 "nbformat_minor": 2
}
